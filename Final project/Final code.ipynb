{
 "cells": [
  {
   "cell_type": "code",
   "execution_count": 1,
   "metadata": {},
   "outputs": [
    {
     "name": "stdout",
     "output_type": "stream",
     "text": [
      "Enter a candidate's name:Donald Trump\n",
      "Data for Donald Trump: \n",
      "0 ('RT @JLCauvin: DONALD TRUMP IS BETTER THAN LINCOLN.😂😂\\nGet the new (#1) Trump album Fireside Craps: The Deuce on iTunes and Amazon https://t.…', 'Mon May 04 18:35:39 +0000 2020')\n",
      "1 ('RT @NYUforJoe: Thanks, @IndivisibleTeam!!! We stand together, united, with our eyes on the prize: sending Donald Trump packing in November.…', 'Mon May 04 18:35:35 +0000 2020')\n",
      "2 ('RT @JLCauvin: DONALD TRUMP IS BETTER THAN LINCOLN.😂😂\\nGet the new (#1) Trump album Fireside Craps: The Deuce on iTunes and Amazon https://t.…', 'Mon May 04 18:35:18 +0000 2020')\n",
      "3 ('Why are laws often seen in direct contrast to scientific research? “The Republican party has been on an aggressive… https://t.co/lbNplu8n8B', 'Mon May 04 18:35:02 +0000 2020')\n",
      "4 ('RT @JLCauvin: DONALD TRUMP IS BETTER THAN LINCOLN.😂😂\\nGet the new (#1) Trump album Fireside Craps: The Deuce on iTunes and Amazon https://t.…', 'Mon May 04 18:35:02 +0000 2020')\n",
      "5 (\"RT @joelockhart: All of May we are highlighting the stories of women who've been sexually assaulted by @realDonaldTrump Today is confession…\", 'Mon May 04 18:34:52 +0000 2020')\n",
      "6 ('RT @JLCauvin: DONALD TRUMP IS BETTER THAN LINCOLN.😂😂\\nGet the new (#1) Trump album Fireside Craps: The Deuce on iTunes and Amazon https://t.…', 'Mon May 04 18:34:34 +0000 2020')\n",
      "7 ('RT @JLCauvin: DONALD TRUMP IS BETTER THAN LINCOLN.😂😂\\nGet the new (#1) Trump album Fireside Craps: The Deuce on iTunes and Amazon https://t.…', 'Mon May 04 18:34:14 +0000 2020')\n",
      "8 (\"RT @joelockhart: All of May we are highlighting the stories of women who've been sexually assaulted by @realDonaldTrump Today is confession…\", 'Mon May 04 18:34:06 +0000 2020')\n",
      "9 (\"RT @acnewsitics: The dead in Vietnam and the dead from the Covid virus have one thing in common:  Donald Trump didn't fight for any of them.\", 'Mon May 04 18:33:56 +0000 2020')\n",
      "10 ('RT @JLCauvin: DONALD TRUMP IS BETTER THAN LINCOLN.😂😂\\nGet the new (#1) Trump album Fireside Craps: The Deuce on iTunes and Amazon https://t.…', 'Mon May 04 18:33:52 +0000 2020')\n",
      "11 ('RT @JLCauvin: DONALD TRUMP IS BETTER THAN LINCOLN.😂😂\\nGet the new (#1) Trump album Fireside Craps: The Deuce on iTunes and Amazon https://t.…', 'Mon May 04 18:33:49 +0000 2020')\n",
      "12 ('RT @JLCauvin: DONALD TRUMP IS BETTER THAN LINCOLN.😂😂\\nGet the new (#1) Trump album Fireside Craps: The Deuce on iTunes and Amazon https://t.…', 'Mon May 04 18:33:47 +0000 2020')\n",
      "13 ('RT @Remroum: George Bush has more blood on his hands than Donald Trump. And he paved the way for fascists like Trump. He deserves nothing b…', 'Mon May 04 18:33:46 +0000 2020')\n",
      "14 ('RT @JLCauvin: DONALD TRUMP IS BETTER THAN LINCOLN.😂😂\\nGet the new (#1) Trump album Fireside Craps: The Deuce on iTunes and Amazon https://t.…', 'Mon May 04 18:33:43 +0000 2020')\n",
      "15 ('RT @JLCauvin: DONALD TRUMP IS BETTER THAN LINCOLN.😂😂\\nGet the new (#1) Trump album Fireside Craps: The Deuce on iTunes and Amazon https://t.…', 'Mon May 04 18:33:39 +0000 2020')\n",
      "16 ('RT @DeadlineWH: \"Twin reports in the New York Times reveal just how dramatically Donald Trump is pushing the limits of the government he le…', 'Mon May 04 18:33:37 +0000 2020')\n",
      "17 ('RT @JLCauvin: Donald Trump clarifies his #plague tweet, warns us about #MurderHornets &amp; gets an update from (the excited CNN interview vers…', 'Mon May 04 18:33:33 +0000 2020')\n",
      "18 ('RT @EpochTimes: President Donald Trump signed an executive order that seeks to protect the US #ElectricalGrid from #Cyber and other attacks…', 'Mon May 04 18:33:31 +0000 2020')\n",
      "19 ('RT @NewsandGuts: It was last night that Donald Trump said it was safe for states to begin reopening, but then @nytimes  obtained a private…', 'Mon May 04 18:33:31 +0000 2020')\n",
      "20 (\"RT @joelockhart: All of May we are highlighting the stories of women who've been sexually assaulted by @realDonaldTrump Today is confession…\", 'Mon May 04 18:33:25 +0000 2020')\n",
      "21 (\"Donald Trump ranked worst president in US history by nearly 200 political scientists.\\n\\nHe's number last! He's numbe… https://t.co/Ku53gjHqAY\", 'Mon May 04 18:33:23 +0000 2020')\n",
      "22 ('RT @JLCauvin: DONALD TRUMP IS BETTER THAN LINCOLN.😂😂\\nGet the new (#1) Trump album Fireside Craps: The Deuce on iTunes and Amazon https://t.…', 'Mon May 04 18:33:22 +0000 2020')\n",
      "23 ('RT @JLCauvin: DONALD TRUMP IS BETTER THAN LINCOLN.😂😂\\nGet the new (#1) Trump album Fireside Craps: The Deuce on iTunes and Amazon https://t.…', 'Mon May 04 18:33:11 +0000 2020')\n",
      "24 ('RT @voguemagazine: \"He doesn’t care if Americans live or die. And that might sound harsh and blunt, but that’s the truth of the matter.\" Au…', 'Mon May 04 18:33:09 +0000 2020')\n",
      "25 ('RT @JLCauvin: DONALD TRUMP IS BETTER THAN LINCOLN.😂😂\\nGet the new (#1) Trump album Fireside Craps: The Deuce on iTunes and Amazon https://t.…', 'Mon May 04 18:33:05 +0000 2020')\n",
      "26 ('RT @JLCauvin: DONALD TRUMP IS BETTER THAN LINCOLN.😂😂\\nGet the new (#1) Trump album Fireside Craps: The Deuce on iTunes and Amazon https://t.…', 'Mon May 04 18:33:00 +0000 2020')\n",
      "27 ('RT @JLCauvin: DONALD TRUMP IS BETTER THAN LINCOLN.😂😂\\nGet the new (#1) Trump album Fireside Craps: The Deuce on iTunes and Amazon https://t.…', 'Mon May 04 18:32:51 +0000 2020')\n",
      "28 ('RT @RussOnPolitics: @maggieNYT I think we are LONG past the time when reporters should begin stating the obvious: Donald Trump is not just…', 'Mon May 04 18:32:45 +0000 2020')\n",
      "29 ('RT @JLCauvin: DONALD TRUMP IS BETTER THAN LINCOLN.😂😂\\nGet the new (#1) Trump album Fireside Craps: The Deuce on iTunes and Amazon https://t.…', 'Mon May 04 18:32:37 +0000 2020')\n",
      "30 ('RT @JLCauvin: DONALD TRUMP IS BETTER THAN LINCOLN.😂😂\\nGet the new (#1) Trump album Fireside Craps: The Deuce on iTunes and Amazon https://t.…', 'Mon May 04 18:32:36 +0000 2020')\n",
      "31 ('RT @joelockhart: Every day in May we will  highlight one story of women who have accused @realDonaldTrump of sexual assault and rape. There…', 'Mon May 04 18:32:31 +0000 2020')\n",
      "32 (\"RT @tomtomorrow: Donald Trump is a profoundly strange human being.\\n\\nThat's it, that's the tweet.\", 'Mon May 04 18:32:10 +0000 2020')\n",
      "33 ('RT @JLCauvin: DONALD TRUMP IS BETTER THAN LINCOLN.😂😂\\nGet the new (#1) Trump album Fireside Craps: The Deuce on iTunes and Amazon https://t.…', 'Mon May 04 18:32:06 +0000 2020')\n",
      "34 ('RT @NewsandGuts: It was last night that Donald Trump said it was safe for states to begin reopening, but then @nytimes  obtained a private…', 'Mon May 04 18:31:57 +0000 2020')\n",
      "35 ('RT @joncoopertweets: Joe Biden: “No. It is not true. I’m saying unequivocally it never happened and it didn’t happen.”\\n\\nDonald Trump: “I di…', 'Mon May 04 18:31:29 +0000 2020')\n",
      "36 (\"RT @joelockhart: All of May we are highlighting the stories of women who've been sexually assaulted by @realDonaldTrump Today is confession…\", 'Mon May 04 18:31:27 +0000 2020')\n",
      "37 ('RT @profwolff: Re-election means distracting the public from the failures to prepare for, and manage the coronavirus. \\n\\nSo talk of \"trade w…', 'Mon May 04 18:31:18 +0000 2020')\n",
      "38 ('RT @AngelaBelcamino: Not voting or voting for anyone else other than Biden is a vote for Donald Trump who will appoint Supreme Court Justic…', 'Mon May 04 18:31:12 +0000 2020')\n",
      "39 ('RT @NewYorker: Contrary to the clichéd image of his admirers, two-thirds of Donald Trump’s supporters in 2016 had incomes higher than the n…', 'Mon May 04 18:30:39 +0000 2020')\n",
      "40 ('RT @RussOnPolitics: @maggieNYT I think we are LONG past the time when reporters should begin stating the obvious: Donald Trump is not just…', 'Mon May 04 18:30:30 +0000 2020')\n",
      "41 ('DONALD TRUMP IS BETTER THAN LINCOLN.😂😂\\nGet the new (#1) Trump album Fireside Craps: The Deuce on iTunes and Amazon… https://t.co/tNiyyapHNI', 'Mon May 04 18:30:28 +0000 2020')\n",
      "42 ('RT @notcapnamerica: The FDA has approved the drug Remdesivir to be prescribed to hospitalized adults as treatment for #COVID19.\\n\\nIt is said…', 'Mon May 04 18:30:27 +0000 2020')\n",
      "43 ('RT @CyrusMMcQueen: Donald Trump has over two dozen credible sexual assault claims against him... No one’s dismissing Bidens accuser... not…', 'Mon May 04 18:30:23 +0000 2020')\n",
      "44 (\"RT @joelockhart: All of May we are highlighting the stories of women who've been sexually assaulted by @realDonaldTrump Today is confession…\", 'Mon May 04 18:30:19 +0000 2020')\n",
      "45 ('Donald Trump Complains That He’s Been ‘Treated Worse’ Than Assassinated President #AbrahamLincoln https://t.co/6gtyxFPqCa', 'Mon May 04 18:30:18 +0000 2020')\n",
      "46 ('@rustylyn70 https://t.co/roPStLLHLJ\\n\\n*list of Donald Trump lies*', 'Mon May 04 18:29:53 +0000 2020')\n",
      "47 ('I blame everything happening in America today on Donald Trump Idc he ruined everything', 'Mon May 04 18:29:30 +0000 2020')\n",
      "48 (\"RT @joelockhart: All of May we are highlighting the stories of women who've been sexually assaulted by @realDonaldTrump Today is confession…\", 'Mon May 04 18:29:29 +0000 2020')\n",
      "49 ('RT @CyrusMMcQueen: Donald Trump has over two dozen credible sexual assault claims against him... No one’s dismissing Bidens accuser... not…', 'Mon May 04 18:29:23 +0000 2020')\n",
      "50 ('RT @NewsandGuts: It was last night that Donald Trump said it was safe for states to begin reopening, but then @nytimes  obtained a private…', 'Mon May 04 18:29:18 +0000 2020')\n",
      "51 (\"RT @joelockhart: All of May we are highlighting the stories of women who've been sexually assaulted by @realDonaldTrump Today is confession…\", 'Mon May 04 18:29:08 +0000 2020')\n",
      "52 (\"RT @joelockhart: All of May we are highlighting the stories of women who've been sexually assaulted by @realDonaldTrump Today is confession…\", 'Mon May 04 18:29:04 +0000 2020')\n",
      "53 ('RT @DeadlineWH: \"Twin reports in the New York Times reveal just how dramatically Donald Trump is pushing the limits of the government he le…', 'Mon May 04 18:29:00 +0000 2020')\n",
      "54 ('RT @DeadlineWH: \"Twin reports in the New York Times reveal just how dramatically Donald Trump is pushing the limits of the government he le…', 'Mon May 04 18:28:50 +0000 2020')\n",
      "55 (\"@DCfegan @realDonaldTrump This is all because of Donald Trump, because he didn't want to close the country first be… https://t.co/ahuUjr4YVd\", 'Mon May 04 18:28:48 +0000 2020')\n",
      "56 ('RT @CyrusMMcQueen: Donald Trump has over two dozen credible sexual assault claims against him... No one’s dismissing Bidens accuser... not…', 'Mon May 04 18:28:38 +0000 2020')\n",
      "57 ('RT @NewYorker: Contrary to the clichéd image of his admirers, two-thirds of Donald Trump’s supporters in 2016 had incomes higher than the n…', 'Mon May 04 18:28:29 +0000 2020')\n",
      "58 ('RT @voguemagazine: \"He doesn’t care if Americans live or die. And that might sound harsh and blunt, but that’s the truth of the matter.\" Au…', 'Mon May 04 18:28:27 +0000 2020')\n",
      "59 ('RT @CyrusMMcQueen: Donald Trump has over two dozen credible sexual assault claims against him... No one’s dismissing Bidens accuser... not…', 'Mon May 04 18:28:24 +0000 2020')\n",
      "60 (\"RT @joelockhart: All of May we are highlighting the stories of women who've been sexually assaulted by @realDonaldTrump Today is confession…\", 'Mon May 04 18:28:17 +0000 2020')\n",
      "61 (\"RT @joelockhart: All of May we are highlighting the stories of women who've been sexually assaulted by @realDonaldTrump Today is confession…\", 'Mon May 04 18:27:42 +0000 2020')\n",
      "62 (\"RT @joelockhart: All of May we are highlighting the stories of women who've been sexually assaulted by @realDonaldTrump Today is confession…\", 'Mon May 04 18:27:28 +0000 2020')\n",
      "63 ('@GOPLeader Lopsided double standard gives more media attention to one allegation against a Democrat, no matter how… https://t.co/GpvafgdBaf', 'Mon May 04 18:27:24 +0000 2020')\n",
      "64 ('RT @ObsoleteDogma: The 12 scariest words in the English language: \"Jared is running everything. He’s the de facto president of the United S…', 'Mon May 04 18:27:16 +0000 2020')\n",
      "65 ('@jilevin Is anyone reporting on the status of E Jean Carroll’s attempt to get DNA from Donald Trump? One would thin… https://t.co/U0VHCwaRBj', 'Mon May 04 18:27:10 +0000 2020')\n",
      "66 (\"@w_terrence @realDonaldTrump Cry more. @donlemon destroyed Donald. Trump's Obama obsession is pathetic and well documented.\", 'Mon May 04 18:26:59 +0000 2020')\n",
      "67 ('RT @MauriceMichael: No wonder Donald Trump just admitted that Jeffrey Epstein didn’t kill himself https://t.co/6O2qmbRGA5 via @PalmerReport', 'Mon May 04 18:26:57 +0000 2020')\n",
      "68 ('RT @RussOnPolitics: @maggieNYT I think we are LONG past the time when reporters should begin stating the obvious: Donald Trump is not just…', 'Mon May 04 18:26:33 +0000 2020')\n",
      "69 ('RT @joncoopertweets: Donald Trump will go down in history as the first American president to have willingly betrayed his own country in ser…', 'Mon May 04 18:26:33 +0000 2020')\n",
      "70 (\"RT @joelockhart: All of May we are highlighting the stories of women who've been sexually assaulted by @realDonaldTrump Today is confession…\", 'Mon May 04 18:26:14 +0000 2020')\n",
      "71 ('RT @david_j_roth: I wrote about how stupid it is to keep asking the same questions of a person who will never be able to answer them. https…', 'Mon May 04 18:26:01 +0000 2020')\n",
      "72 ('RT @JackPolakoff: @seanhannity SUMMARY OF ASSAULT ALLEGATIONS AGAINST DONALD TRUMP\\nhttps://t.co/v7cJ0HKZ6O', 'Mon May 04 18:25:53 +0000 2020')\n",
      "73 (\"RT @JohnLGoodman: “You can't successfully wage a war against the coronavirus while simultaneously waging a huge war on the truth, which is…\", 'Mon May 04 18:25:48 +0000 2020')\n",
      "74 ('RT @AngelaBelcamino: Not voting or voting for anyone else other than Biden is a vote for Donald Trump who will appoint Supreme Court Justic…', 'Mon May 04 18:25:42 +0000 2020')\n",
      "75 ('RT @joelockhart: Every day in May we will  highlight one story of women who have accused @realDonaldTrump of sexual assault and rape. There…', 'Mon May 04 18:25:40 +0000 2020')\n",
      "76 ('RT @joelockhart: Every day in May we will  highlight one story of women who have accused @realDonaldTrump of sexual assault and rape. There…', 'Mon May 04 18:25:37 +0000 2020')\n",
      "77 ('RT @david_j_roth: I wrote about how stupid it is to keep asking the same questions of a person who will never be able to answer them. https…', 'Mon May 04 18:25:34 +0000 2020')\n",
      "78 ('RT @CyrusMMcQueen: Donald Trump has over two dozen credible sexual assault claims against him... No one’s dismissing Bidens accuser... not…', 'Mon May 04 18:24:51 +0000 2020')\n",
      "79 ('RT @NewsandGuts: It was last night that Donald Trump said it was safe for states to begin reopening, but then @nytimes  obtained a private…', 'Mon May 04 18:24:46 +0000 2020')\n",
      "80 (\"RT @mmpadellan: HEY MEDIA:\\n\\nIf you're going to keep doing pieces on the Joe Biden accuser, then you HAVE TO cover the other 25 accusers of…\", 'Mon May 04 18:24:25 +0000 2020')\n",
      "81 (\"RT @joelockhart: All of May we are highlighting the stories of women who've been sexually assaulted by @realDonaldTrump Today is confession…\", 'Mon May 04 18:23:59 +0000 2020')\n",
      "82 ('RT @joelockhart: Every day in May we will  highlight one story of women who have accused @realDonaldTrump of sexual assault and rape. There…', 'Mon May 04 18:23:57 +0000 2020')\n",
      "83 ('RT @ObsoleteDogma: The 12 scariest words in the English language: \"Jared is running everything. He’s the de facto president of the United S…', 'Mon May 04 18:23:52 +0000 2020')\n",
      "84 ('RT @marthamaccallum: Back on the road 2020: Next stop this Sunday Night 7-9 pm #TheLincolnMemorial Virtual Town Hall with President Trump a…', 'Mon May 04 18:23:48 +0000 2020')\n",
      "85 ('RT @CyrusMMcQueen: Donald Trump has over two dozen credible sexual assault claims against him... No one’s dismissing Bidens accuser... not…', 'Mon May 04 18:23:34 +0000 2020')\n",
      "86 ('RT @WealDonoodTwump: @DeAnna4Congress @realDonaldTrump Donald Trump is not a president.\\n\\nDonald Trump is not a businessman.\\n\\nDonald Trump i…', 'Mon May 04 18:23:31 +0000 2020')\n",
      "87 ('RT @NewsandGuts: It was last night that Donald Trump said it was safe for states to begin reopening, but then @nytimes  obtained a private…', 'Mon May 04 18:23:31 +0000 2020')\n",
      "88 ('RT @JLCauvin: Donald Trump clarifies his #plague tweet, warns us about #MurderHornets &amp; gets an update from (the excited CNN interview vers…', 'Mon May 04 18:23:30 +0000 2020')\n",
      "89 ('A country is only as good as its weakest link. Our weakest link is Donald Trump. We can and must do better! Joe Bid… https://t.co/J6XHZ9kNhy', 'Mon May 04 18:23:03 +0000 2020')\n",
      "90 (\"RT @acnewsitics: The dead in Vietnam and the dead from the Covid virus have one thing in common:  Donald Trump didn't fight for any of them.\", 'Mon May 04 18:22:55 +0000 2020')\n",
      "91 ('RT @notcapnamerica: The FDA has approved the drug Remdesivir to be prescribed to hospitalized adults as treatment for #COVID19.\\n\\nIt is said…', 'Mon May 04 18:22:44 +0000 2020')\n",
      "92 ('RT @david_j_roth: I wrote about how stupid it is to keep asking the same questions of a person who will never be able to answer them. https…', 'Mon May 04 18:22:41 +0000 2020')\n",
      "93 ('RT @HillaryClinton: Please don’t poison yourself because Donald Trump thinks it could be a good idea.', 'Mon May 04 18:22:38 +0000 2020')\n",
      "94 ('RT @AngelaBelcamino: Not voting or voting for anyone else other than Biden is a vote for Donald Trump who will appoint Supreme Court Justic…', 'Mon May 04 18:22:30 +0000 2020')\n",
      "95 (\"RT @mmpadellan: HEY MEDIA:\\n\\nIf you're going to keep doing pieces on the Joe Biden accuser, then you HAVE TO cover the other 25 accusers of…\", 'Mon May 04 18:22:26 +0000 2020')\n",
      "96 (\"RT @joelockhart: All of May we are highlighting the stories of women who've been sexually assaulted by @realDonaldTrump Today is confession…\", 'Mon May 04 18:22:20 +0000 2020')\n",
      "97 ('RT @joelockhart: Every day in May we will  highlight one story of women who have accused @realDonaldTrump of sexual assault and rape. There…', 'Mon May 04 18:21:13 +0000 2020')\n",
      "98 (\"RT @kylegriffin1: Trump says he shares his famed uncle's science genius. A friend says the uncle 'would have been horrified.' https://t.co/…\", 'Mon May 04 18:20:56 +0000 2020')\n",
      "99 ('RT @david_j_roth: I wrote about how stupid it is to keep asking the same questions of a person who will never be able to answer them. https…', 'Mon May 04 18:20:55 +0000 2020')\n"
     ]
    }
   ],
   "source": [
    "import requests\n",
    "import twitter\n",
    "import json\n",
    "import pandas as pd\n",
    "import plotly \n",
    "# def oauth_login is learned from <<Mining the Social Web, 3rd>>\n",
    "\n",
    "\n",
    "def oauth_login():\n",
    "    CONSUMER_KEY = '7a1pq6oCaqGBjp7xoSJ9Hxy3r'\n",
    "    CONSUMER_SECRET = 'YyDmo9nYgdQ5YeK8zOhfAXsaIoDrU08xAOxzt7vBuUNVMnDldY'\n",
    "    OAUTH_TOKEN = '1096083516071260162-vFP8ZA9TvVCxlG0haeIyNelOiXt8Zb'\n",
    "    OAUTH_TOKEN_SECRET = 'Mvkzy8CE8bDKlltZVvqnUhOKvwqDbysdfXlNiKxWui4zQ'\n",
    "    auth = twitter.oauth.OAuth(OAUTH_TOKEN, OAUTH_TOKEN_SECRET,CONSUMER_KEY, CONSUMER_SECRET)\n",
    "    twitter_api = twitter.Twitter(auth=auth)\n",
    "    return twitter_api\n",
    "twitter_api = oauth_login()\n",
    "\n",
    "#name_list = ['Donald Trump']\n",
    "name_candidate = input(\"Enter a candidate's name:\")\n",
    "def candidate_now(name_candidate):\n",
    "    name_list= ['Donald Trump','COVID-19','coronavirus']\n",
    "    for key_word in name_list:\n",
    "        count = 100\n",
    "        search_results = twitter_api.search.tweets(q=key_word, count=count, geocode='40.712776,-74.005974,20mi')['statuses']\n",
    "    # statuses stand for tweets in Twitter. We only filter tweets not the metadata, so by referring ['statuses']。\n",
    "    # we didn't save the unwanted data.\n",
    "        if key_word == name_candidate :\n",
    "            print('Data for %s: ' %name_candidate)\n",
    "            tweets1 = [(r['text'], r['created_at']) for r in search_results]\n",
    "            texts1 = [(r['text']) for r in search_results]\n",
    "            Total_n1 = len(texts1)# the total number of tweets about Trump  \n",
    "    return tweets1, texts1, Total_n1\n",
    "\n",
    "def sentimentAnalysis1(texts1):\n",
    "    url = 'http://text-processing.com/api/sentiment/'\n",
    "    positive1 = 0\n",
    "    negative1 = 0\n",
    "    neutral1 = 0\n",
    "    for line in texts1:\n",
    "        options = {'text': line}\n",
    "        response = requests.post(url, data=options)\n",
    "        sentiment = response.json()\n",
    "        if sentiment['label'] == 'neg':\n",
    "            negative1 += 1\n",
    "        elif sentiment['label'] == 'neutral':\n",
    "            neutral1 += 1\n",
    "        elif sentiment['label'] == 'pos':\n",
    "            positive1 += 1\n",
    "    return [positive1, neutral1, negative1]\n",
    "\n",
    "\n",
    "tweets1, texts1, Total_n1 = candidate_now(name_candidate)\n",
    "for i, t in enumerate(tweets1):\n",
    "    try:\n",
    "        print(i, t)\n",
    "    except:\n",
    "        pass \n",
    "positive1, neutral1, negative1 = sentimentAnalysis1(texts1)"
   ]
  },
  {
   "cell_type": "code",
   "execution_count": 2,
   "metadata": {},
   "outputs": [
    {
     "name": "stdout",
     "output_type": "stream",
     "text": [
      "Data for Donald Trump: \n",
      "0 ('RT @CaslerNoel: I’m always surprised when people claim ‘Trump doesn’t even drink’ he does, and always has, it was not a secret. He made tha…', 'Mon Apr 27 23:59:52 +0000 2020')\n",
      "1 ('RT @thedailybeast: Howard Stern had a lot to say about President Trump’s suggestion that injecting disinfectant might be the COVID-19 cure.…', 'Mon Apr 27 23:59:51 +0000 2020')\n",
      "2 ('RT @JackPolakoff: @DonaldJTrumpJr DONALD TRUMP SEXUAL ASSAULT ACCUSERS\\nhttps://t.co/gCWoc5zBWU', 'Mon Apr 27 23:59:49 +0000 2020')\n",
      "3 ('RT @RudyGiuliani: Politico Quietly Updates Article After Claiming Trump Currently ‘Owes’ Millions To Bank Of China \\n\\nPolitico is FAKE NEWS!…', 'Mon Apr 27 23:59:49 +0000 2020')\n",
      "4 ('RT @thedailybeast: Howard Stern had a lot to say about President Trump’s suggestion that injecting disinfectant might be the COVID-19 cure.…', 'Mon Apr 27 23:59:29 +0000 2020')\n",
      "5 ('RT @ABCWorldNews: Americans receiving stimulus checks amid the coronavirus pandemic have started getting signed letters by President Donald…', 'Mon Apr 27 23:59:28 +0000 2020')\n",
      "6 ('RT @RudyGiuliani: Politico Quietly Updates Article After Claiming Trump Currently ‘Owes’ Millions To Bank Of China \\n\\nPolitico is FAKE NEWS!…', 'Mon Apr 27 23:59:26 +0000 2020')\n",
      "7 ('RT @thedailybeast: Howard Stern had a lot to say about President Trump’s suggestion that injecting disinfectant might be the COVID-19 cure.…', 'Mon Apr 27 23:59:24 +0000 2020')\n",
      "8 ('RT @BetteMidler: “No matter that Donald Trump says, he didn’t do a “good job.” With months of warning and near-infinite resources, he did a…', 'Mon Apr 27 23:59:22 +0000 2020')\n",
      "9 ('There seems to be a disproportionate amount of excitement every time some right-wing guy says something vaguely eco… https://t.co/bgwTXKLQZE', 'Mon Apr 27 23:59:01 +0000 2020')\n",
      "10 ('RT @CaslerNoel: I’m always surprised when people claim ‘Trump doesn’t even drink’ he does, and always has, it was not a secret. He made tha…', 'Mon Apr 27 23:58:57 +0000 2020')\n",
      "11 ('RT @RichSementa: @marklevinshow \"When I think of Donald Trump, I do think of Reagan and Lincoln.\" @marklevinshow', 'Mon Apr 27 23:58:55 +0000 2020')\n",
      "12 ('RT @thedailybeast: Howard Stern had a lot to say about President Trump’s suggestion that injecting disinfectant might be the COVID-19 cure.…', 'Mon Apr 27 23:58:53 +0000 2020')\n",
      "13 ('RT @kylegriffin1: \"This notion of injecting or ingesting any type of cleansing product into the body is irresponsible and it\\'s dangerous,\"…', 'Mon Apr 27 23:58:49 +0000 2020')\n",
      "14 ('RT @RudyGiuliani: Politico Quietly Updates Article After Claiming Trump Currently ‘Owes’ Millions To Bank Of China \\n\\nPolitico is FAKE NEWS!…', 'Mon Apr 27 23:58:44 +0000 2020')\n",
      "15 (\"RT @blondenfun1: Legal Schnauzer: Seizure of documents from Michael Cohen's office could yield evidence of Donald Trump's sex crimes -- inc…\", 'Mon Apr 27 23:58:35 +0000 2020')\n",
      "16 ('RT @RudyGiuliani: Politico Quietly Updates Article After Claiming Trump Currently ‘Owes’ Millions To Bank Of China \\n\\nPolitico is FAKE NEWS!…', 'Mon Apr 27 23:58:35 +0000 2020')\n",
      "17 ('RT @NBCNews: President Trump suggested that the federal government should not be responsible for bailing out states and cities that are str…', 'Mon Apr 27 23:58:20 +0000 2020')\n",
      "18 (\"RT @VanityFair: Trump's rambling daily press briefings are reportedly all thanks to Hope Hicks https://t.co/0iYLjLVmjq\", 'Mon Apr 27 23:58:15 +0000 2020')\n",
      "19 ('RT @RudyGiuliani: Politico Quietly Updates Article After Claiming Trump Currently ‘Owes’ Millions To Bank Of China \\n\\nPolitico is FAKE NEWS!…', 'Mon Apr 27 23:58:11 +0000 2020')\n",
      "20 ('RT @HillaryClinton: Please don’t poison yourself because Donald Trump thinks it could be a good idea.', 'Mon Apr 27 23:58:05 +0000 2020')\n",
      "21 ('RT @NathanHRubin: Donald Trump received numerous classified briefings about the Coronavirus, dating all the way back to January. \\n\\nHe was j…', 'Mon Apr 27 23:58:02 +0000 2020')\n",
      "22 (\"RT @ComplexPop: Howard Stern Proposes Trump Drink Disinfectant After Caller Defends 'Sarcastic' Suggestion https://t.co/Hxp2fxVh5G https://…\", 'Mon Apr 27 23:57:59 +0000 2020')\n",
      "23 ('RT @ChafedCharlie: The media consults with many highly accomplished and revered medical experts about the Coronavirus. \\n\\nDonald Trump prefe…', 'Mon Apr 27 23:57:54 +0000 2020')\n",
      "24 ('RT @RichSementa: @marklevinshow \"When I think of Donald Trump, I do think of Reagan and Lincoln.\" @marklevinshow', 'Mon Apr 27 23:57:52 +0000 2020')\n",
      "25 (\"Part 1 of Michael Hudson's masterclass on politics &amp; finance, covering the Democrats chosen candidate, Donald Trump… https://t.co/YXztITUw5G\", 'Mon Apr 27 23:57:51 +0000 2020')\n",
      "26 ('RT @JackPolakoff: @DonaldJTrumpJr DONALD TRUMP SEXUAL ASSAULT ACCUSERS\\nhttps://t.co/gCWoc5zBWU', 'Mon Apr 27 23:57:49 +0000 2020')\n",
      "27 ('RT @thedailybeast: Howard Stern had a lot to say about President Trump’s suggestion that injecting disinfectant might be the COVID-19 cure.…', 'Mon Apr 27 23:57:29 +0000 2020')\n",
      "28 ('RT @thedailybeast: Howard Stern had a lot to say about President Trump’s suggestion that injecting disinfectant might be the COVID-19 cure.…', 'Mon Apr 27 23:57:29 +0000 2020')\n",
      "29 ('RT @RudyGiuliani: Politico Quietly Updates Article After Claiming Trump Currently ‘Owes’ Millions To Bank Of China \\n\\nPolitico is FAKE NEWS!…', 'Mon Apr 27 23:57:17 +0000 2020')\n",
      "30 ('RT @RichSementa: @marklevinshow \"When I think of Donald Trump, I do think of Reagan and Lincoln.\" @marklevinshow', 'Mon Apr 27 23:57:08 +0000 2020')\n",
      "31 ('RT @HillaryClinton: Please don’t poison yourself because Donald Trump thinks it could be a good idea.', 'Mon Apr 27 23:57:00 +0000 2020')\n",
      "32 ('RT @RudyGiuliani: Politico Quietly Updates Article After Claiming Trump Currently ‘Owes’ Millions To Bank Of China \\n\\nPolitico is FAKE NEWS!…', 'Mon Apr 27 23:56:56 +0000 2020')\n",
      "33 ('RT @RudyGiuliani: Politico Quietly Updates Article After Claiming Trump Currently ‘Owes’ Millions To Bank Of China \\n\\nPolitico is FAKE NEWS!…', 'Mon Apr 27 23:56:46 +0000 2020')\n",
      "34 (\"RT @sarahcpr: Written by the lovely @reginarobertson! Meet The Comedian Behind The 'How to Medical' TikTok Everyone Is Sharing https://t.co…\", 'Mon Apr 27 23:56:44 +0000 2020')\n",
      "35 ('@elizableu @AndrewYang @WhiteHouse I agree with everyone here. What is worth doing knows no political boundaries. I… https://t.co/bz5hWZiddn', 'Mon Apr 27 23:56:36 +0000 2020')\n",
      "36 ('RT @RudyGiuliani: Politico Quietly Updates Article After Claiming Trump Currently ‘Owes’ Millions To Bank Of China \\n\\nPolitico is FAKE NEWS!…', 'Mon Apr 27 23:56:35 +0000 2020')\n",
      "37 ('How to become a game dev: Step 22. Shake hands with Donald Trump or bow down to the king.', 'Mon Apr 27 23:56:23 +0000 2020')\n",
      "38 ('RT @HillaryClinton: Please don’t poison yourself because Donald Trump thinks it could be a good idea.', 'Mon Apr 27 23:56:18 +0000 2020')\n",
      "39 ('RT @DeadlineWH: \"This is a moment that he can actually step up and show that he\\'s saving lives and that he cares about people, but it\\'s not…', 'Mon Apr 27 23:56:13 +0000 2020')\n",
      "40 ('RT @XXL: Kodak Black wants in-person meeting with President Trump:\\n\\n\"Tell Donald Trump to pull-up on me, I got a brilliant idea.\"\\nhttps://t…', 'Mon Apr 27 23:56:05 +0000 2020')\n",
      "41 ('RT @joncoopertweets: Say it loud, say it clear: Donald Trump needs to resign over his handling of the coronavirus pandemic https://t.co/3HF…', 'Mon Apr 27 23:56:02 +0000 2020')\n",
      "42 (\"RT @VanityFair: Trump's rambling daily press briefings are reportedly all thanks to Hope Hicks https://t.co/0iYLjLVmjq\", 'Mon Apr 27 23:55:59 +0000 2020')\n",
      "43 ('@DonaldJTrumpJr https://t.co/t8DkhB9gpP', 'Mon Apr 27 23:55:28 +0000 2020')\n",
      "44 (\"RT @sarahcpr: Written by the lovely @reginarobertson! Meet The Comedian Behind The 'How to Medical' TikTok Everyone Is Sharing https://t.co…\", 'Mon Apr 27 23:55:25 +0000 2020')\n",
      "45 ('RT @thedailybeast: Howard Stern had a lot to say about President Trump’s suggestion that injecting disinfectant might be the COVID-19 cure.…', 'Mon Apr 27 23:55:24 +0000 2020')\n",
      "46 ('RT @RudyGiuliani: Politico Quietly Updates Article After Claiming Trump Currently ‘Owes’ Millions To Bank Of China \\n\\nPolitico is FAKE NEWS!…', 'Mon Apr 27 23:55:22 +0000 2020')\n",
      "47 ('RT @RussOnPolitics: @AriMelber I am disgusted daily by the level of sycophancy that folks like Mike Pence display toward Donald Trump.\\n\\nWho…', 'Mon Apr 27 23:55:12 +0000 2020')\n",
      "48 ('RT @thedailybeast: Howard Stern had a lot to say about President Trump’s suggestion that injecting disinfectant might be the COVID-19 cure.…', 'Mon Apr 27 23:55:09 +0000 2020')\n",
      "49 ('RT @thedailybeast: Howard Stern had a lot to say about President Trump’s suggestion that injecting disinfectant might be the COVID-19 cure.…', 'Mon Apr 27 23:54:45 +0000 2020')\n",
      "50 ('RT @HillaryClinton: Please don’t poison yourself because Donald Trump thinks it could be a good idea.', 'Mon Apr 27 23:54:41 +0000 2020')\n",
      "51 (\"RT @VanityFair: Trump's rambling daily press briefings are reportedly all thanks to Hope Hicks https://t.co/0iYLjLVmjq\", 'Mon Apr 27 23:54:38 +0000 2020')\n",
      "52 ('RT @CaslerNoel: I’m always surprised when people claim ‘Trump doesn’t even drink’ he does, and always has, it was not a secret. He made tha…', 'Mon Apr 27 23:54:37 +0000 2020')\n",
      "53 ('RT @RudyGiuliani: Politico Quietly Updates Article After Claiming Trump Currently ‘Owes’ Millions To Bank Of China \\n\\nPolitico is FAKE NEWS!…', 'Mon Apr 27 23:54:14 +0000 2020')\n",
      "54 ('RT @RudyGiuliani: Politico Quietly Updates Article After Claiming Trump Currently ‘Owes’ Millions To Bank Of China \\n\\nPolitico is FAKE NEWS!…', 'Mon Apr 27 23:54:11 +0000 2020')\n",
      "55 (\"RT @JLCauvin: On today's #TrumpPressConference Donald Trump celebrates #EarthDay and claims he has never recommended hydroxychloroquine htt…\", 'Mon Apr 27 23:53:59 +0000 2020')\n",
      "56 ('RT @HillaryClinton: Please don’t poison yourself because Donald Trump thinks it could be a good idea.', 'Mon Apr 27 23:53:55 +0000 2020')\n",
      "57 ('RT @DeadlineWH: \"This is a moment that he can actually step up and show that he\\'s saving lives and that he cares about people, but it\\'s not…', 'Mon Apr 27 23:53:53 +0000 2020')\n",
      "58 ('RT @thedailybeast: Howard Stern had a lot to say about President Trump’s suggestion that injecting disinfectant might be the COVID-19 cure.…', 'Mon Apr 27 23:53:46 +0000 2020')\n",
      "59 ('RT @RudyGiuliani: Politico Quietly Updates Article After Claiming Trump Currently ‘Owes’ Millions To Bank Of China \\n\\nPolitico is FAKE NEWS!…', 'Mon Apr 27 23:53:43 +0000 2020')\n",
      "60 ('RT @DeadlineWH: \"This is a moment that he can actually step up and show that he\\'s saving lives and that he cares about people, but it\\'s not…', 'Mon Apr 27 23:53:34 +0000 2020')\n",
      "61 ('RT @thedailybeast: Howard Stern had a lot to say about President Trump’s suggestion that injecting disinfectant might be the COVID-19 cure.…', 'Mon Apr 27 23:53:19 +0000 2020')\n",
      "62 ('RT @JackPolakoff: @DonaldJTrumpJr DONALD TRUMP SEXUAL ASSAULT ACCUSERS\\nhttps://t.co/gCWoc5zBWU', 'Mon Apr 27 23:53:15 +0000 2020')\n",
      "63 ('RT @thedailybeast: Howard Stern had a lot to say about President Trump’s suggestion that injecting disinfectant might be the COVID-19 cure.…', 'Mon Apr 27 23:53:06 +0000 2020')\n",
      "64 ('RT @NBCNews: President Trump suggested that the federal government should not be responsible for bailing out states and cities that are str…', 'Mon Apr 27 23:53:02 +0000 2020')\n",
      "65 ('RT @thedailybeast: Howard Stern had a lot to say about President Trump’s suggestion that injecting disinfectant might be the COVID-19 cure.…', 'Mon Apr 27 23:52:45 +0000 2020')\n",
      "66 ('RT @CaslerNoel: I’m always surprised when people claim ‘Trump doesn’t even drink’ he does, and always has, it was not a secret. He made tha…', 'Mon Apr 27 23:52:42 +0000 2020')\n",
      "67 ('RT @thedailybeast: Howard Stern had a lot to say about President Trump’s suggestion that injecting disinfectant might be the COVID-19 cure.…', 'Mon Apr 27 23:52:31 +0000 2020')\n",
      "68 ('RT @DeadlineWH: \"This is a moment that he can actually step up and show that he\\'s saving lives and that he cares about people, but it\\'s not…', 'Mon Apr 27 23:52:29 +0000 2020')\n",
      "69 (\"Howard Stern Proposes Trump Drink Disinfectant After Caller Defends 'Sarcastic' Suggestion https://t.co/Hxp2fxVh5G https://t.co/5DQlJydHAM\", 'Mon Apr 27 23:52:28 +0000 2020')\n",
      "70 ('RT @NBCNews: President Trump suggested that the federal government should not be responsible for bailing out states and cities that are str…', 'Mon Apr 27 23:52:16 +0000 2020')\n",
      "71 ('RT @NBCNews: President Trump suggested that the federal government should not be responsible for bailing out states and cities that are str…', 'Mon Apr 27 23:52:11 +0000 2020')\n",
      "72 ('RT @RichSementa: @marklevinshow \"When I think of Donald Trump, I do think of Reagan and Lincoln.\" @marklevinshow', 'Mon Apr 27 23:52:09 +0000 2020')\n",
      "73 ('RT @RudyGiuliani: Politico Quietly Updates Article After Claiming Trump Currently ‘Owes’ Millions To Bank Of China \\n\\nPolitico is FAKE NEWS!…', 'Mon Apr 27 23:51:54 +0000 2020')\n",
      "74 ('RT @NBCNews: President Trump suggested that the federal government should not be responsible for bailing out states and cities that are str…', 'Mon Apr 27 23:51:48 +0000 2020')\n",
      "75 ('RT @Toneman807: I guess we can have the first father and Son tandem running the White House. Donald Trump Jr and he named his father as vic…', 'Mon Apr 27 23:51:42 +0000 2020')\n",
      "76 ('RT @RichSementa: @marklevinshow \"When I think of Donald Trump, I do think of Reagan and Lincoln.\" @marklevinshow', 'Mon Apr 27 23:51:40 +0000 2020')\n",
      "77 ('RT @CaslerNoel: I’m always surprised when people claim ‘Trump doesn’t even drink’ he does, and always has, it was not a secret. He made tha…', 'Mon Apr 27 23:51:31 +0000 2020')\n",
      "78 ('RT @RudyGiuliani: Politico Quietly Updates Article After Claiming Trump Currently ‘Owes’ Millions To Bank Of China \\n\\nPolitico is FAKE NEWS!…', 'Mon Apr 27 23:51:26 +0000 2020')\n",
      "79 ('RT @thedailybeast: Howard Stern had a lot to say about President Trump’s suggestion that injecting disinfectant might be the COVID-19 cure.…', 'Mon Apr 27 23:51:17 +0000 2020')\n",
      "80 ('RT @thedailybeast: Howard Stern had a lot to say about President Trump’s suggestion that injecting disinfectant might be the COVID-19 cure.…', 'Mon Apr 27 23:51:09 +0000 2020')\n",
      "81 ('RT @thedailybeast: Howard Stern had a lot to say about President Trump’s suggestion that injecting disinfectant might be the COVID-19 cure.…', 'Mon Apr 27 23:51:09 +0000 2020')\n",
      "82 ('The media consults with many highly accomplished and revered medical experts about the Coronavirus. \\n\\nDonald Trump… https://t.co/niQSMho27n', 'Mon Apr 27 23:51:04 +0000 2020')\n",
      "83 (\"RT @RussOnPolitics: @realDonaldTrump I used to think golf was Donald Trump's favorite sport. But I was wrong. Clearly, it's the blame game.…\", 'Mon Apr 27 23:50:18 +0000 2020')\n",
      "84 ('@CBSNews That somebody, that did nothing, that guy has a name. Our own do nothing reality TV \"president\", Donald J.… https://t.co/rg1y3WQzTd', 'Mon Apr 27 23:50:08 +0000 2020')\n",
      "85 ('RT @RudyGiuliani: Politico Quietly Updates Article After Claiming Trump Currently ‘Owes’ Millions To Bank Of China \\n\\nPolitico is FAKE NEWS!…', 'Mon Apr 27 23:50:00 +0000 2020')\n",
      "86 ('RT @RudyGiuliani: Politico Quietly Updates Article After Claiming Trump Currently ‘Owes’ Millions To Bank Of China \\n\\nPolitico is FAKE NEWS!…', 'Mon Apr 27 23:49:57 +0000 2020')\n",
      "87 ('RT @thedailybeast: Howard Stern had a lot to say about President Trump’s suggestion that injecting disinfectant might be the COVID-19 cure.…', 'Mon Apr 27 23:49:55 +0000 2020')\n",
      "88 (\"RT @VanityFair: Trump's rambling daily press briefings are reportedly all thanks to Hope Hicks https://t.co/0iYLjLVmjq\", 'Mon Apr 27 23:49:49 +0000 2020')\n",
      "89 ('RT @HillaryClinton: Please don’t poison yourself because Donald Trump thinks it could be a good idea.', 'Mon Apr 27 23:49:45 +0000 2020')\n",
      "90 (\"RT @VanityFair: Trump's rambling daily press briefings are reportedly all thanks to Hope Hicks https://t.co/0iYLjLVmjq\", 'Mon Apr 27 23:49:41 +0000 2020')\n",
      "91 ('RT @CaslerNoel: Former Apprentice Staffer Noel Casler Accuses Donald Trump of Drug Use and Inappropriate Behavior https://t.co/a0CRhlUuQC v…', 'Mon Apr 27 23:49:40 +0000 2020')\n",
      "92 ('RT @jeremyscahill: My aim in writing this piece was to put into words what many principled people are grappling with right now, not to tell…', 'Mon Apr 27 23:49:35 +0000 2020')\n",
      "93 ('RT @RudyGiuliani: Politico Quietly Updates Article After Claiming Trump Currently ‘Owes’ Millions To Bank Of China \\n\\nPolitico is FAKE NEWS!…', 'Mon Apr 27 23:49:20 +0000 2020')\n",
      "94 ('RT @DeadlineWH: \"The message from Donald Trump is dangerous... The less we hear from the president, the safer we are... This is a man since…', 'Mon Apr 27 23:49:10 +0000 2020')\n",
      "95 (\"Legal Schnauzer: Seizure of documents from Michael Cohen's office could yield evidence of Donald Trump's sex crimes… https://t.co/Dausw24Tz4\", 'Mon Apr 27 23:49:10 +0000 2020')\n",
      "96 ('RT @thedailybeast: Howard Stern had a lot to say about President Trump’s suggestion that injecting disinfectant might be the COVID-19 cure.…', 'Mon Apr 27 23:49:09 +0000 2020')\n",
      "97 ('RT @thedailybeast: Howard Stern had a lot to say about President Trump’s suggestion that injecting disinfectant might be the COVID-19 cure.…', 'Mon Apr 27 23:49:08 +0000 2020')\n",
      "98 ('RT @RichSementa: @marklevinshow \"When I think of Donald Trump, I do think of Reagan and Lincoln.\" @marklevinshow', 'Mon Apr 27 23:49:00 +0000 2020')\n",
      "99 ('RT @thedailybeast: Howard Stern had a lot to say about President Trump’s suggestion that injecting disinfectant might be the COVID-19 cure.…', 'Mon Apr 27 23:48:52 +0000 2020')\n"
     ]
    }
   ],
   "source": [
    "def candidate_lastweek(name_candidate):\n",
    "    name_list= ['Donald Trump','COVID-19','coronavirus']\n",
    "    for key_word in name_list:\n",
    "        count = 100\n",
    "        #only could get a week ago data\n",
    "        search_results = twitter_api.search.tweets(q=key_word, count=count, geocode='40.712776,-74.005974,20mi', since='2020-04-27', until='2020-04-28')['statuses']\n",
    "    # statuses stand for tweets in Twitter. We only filter tweets not the metadata, so by referring ['statuses']。\n",
    "    # we didn't save the unwanted data.\n",
    "        if key_word == name_candidate :\n",
    "            print('Data for %s: ' %name_candidate)\n",
    "            tweets2 = [(r['text'], r['created_at']) for r in search_results]\n",
    "            texts2 = [(r['text']) for r in search_results]\n",
    "            Total_n2 = len(texts1)# the total number of tweets about Trump  \n",
    "    return tweets2, texts2, Total_n2\n",
    "\n",
    "def sentimentAnalysis2(texts2):\n",
    "    url = 'http://text-processing.com/api/sentiment/'\n",
    "    positive2 = 0\n",
    "    negative2 = 0\n",
    "    neutral2 = 0\n",
    "    for line in texts2:\n",
    "        options = {'text': line}\n",
    "        response = requests.post(url, data=options)\n",
    "        sentiment = response.json()\n",
    "        if sentiment['label'] == 'neg':\n",
    "            negative2 += 1\n",
    "        elif sentiment['label'] == 'neutral':\n",
    "            neutral2 += 1\n",
    "        elif sentiment['label'] == 'pos':\n",
    "            positive2 += 1\n",
    "    return [positive2, neutral2, negative2]\n",
    "\n",
    "tweets2, texts2, Total_n2 = candidate_lastweek(name_candidate)\n",
    "for i, t in enumerate(tweets2):\n",
    "    try:\n",
    "        print(i, t)\n",
    "    except:\n",
    "        pass \n",
    "positive2, neutral2, negative2 = sentimentAnalysis2(texts2)"
   ]
  },
  {
   "cell_type": "code",
   "execution_count": 3,
   "metadata": {},
   "outputs": [
    {
     "data": {
      "text/html": [
       "<div>\n",
       "<style scoped>\n",
       "    .dataframe tbody tr th:only-of-type {\n",
       "        vertical-align: middle;\n",
       "    }\n",
       "\n",
       "    .dataframe tbody tr th {\n",
       "        vertical-align: top;\n",
       "    }\n",
       "\n",
       "    .dataframe thead th {\n",
       "        text-align: right;\n",
       "    }\n",
       "</style>\n",
       "<table border=\"1\" class=\"dataframe\">\n",
       "  <thead>\n",
       "    <tr style=\"text-align: right;\">\n",
       "      <th></th>\n",
       "      <th>Time</th>\n",
       "      <th>Total number of comments</th>\n",
       "      <th>Number of positive comments</th>\n",
       "      <th>Number of negtitive comments</th>\n",
       "      <th>Number of neutral comments</th>\n",
       "      <th>Precent_pos</th>\n",
       "      <th>Precent_neg</th>\n",
       "    </tr>\n",
       "  </thead>\n",
       "  <tbody>\n",
       "    <tr>\n",
       "      <th>0</th>\n",
       "      <td>Nowadays</td>\n",
       "      <td>100</td>\n",
       "      <td>31</td>\n",
       "      <td>11</td>\n",
       "      <td>58</td>\n",
       "      <td>0.31</td>\n",
       "      <td>0.11</td>\n",
       "    </tr>\n",
       "    <tr>\n",
       "      <th>1</th>\n",
       "      <td>Apr</td>\n",
       "      <td>100</td>\n",
       "      <td>27</td>\n",
       "      <td>28</td>\n",
       "      <td>45</td>\n",
       "      <td>0.27</td>\n",
       "      <td>0.28</td>\n",
       "    </tr>\n",
       "  </tbody>\n",
       "</table>\n",
       "</div>"
      ],
      "text/plain": [
       "        Time  Total number of comments  Number of positive comments  \\\n",
       "0   Nowadays                       100                           31   \n",
       "1       Apr                        100                           27   \n",
       "\n",
       "   Number of negtitive comments  Number of neutral comments  Precent_pos  \\\n",
       "0                            11                          58         0.31   \n",
       "1                            28                          45         0.27   \n",
       "\n",
       "   Precent_neg  \n",
       "0         0.11  \n",
       "1         0.28  "
      ]
     },
     "execution_count": 3,
     "metadata": {},
     "output_type": "execute_result"
    }
   ],
   "source": [
    "time = [' Nowadays', 'a week ago ']\n",
    "list_total = [Total_n1,Total_n2]\n",
    "list_pos = [positive1, positive2]\n",
    "list_neg = [negative1, negative2]\n",
    "list_neu = [neutral1, neutral2]\n",
    "df = pd.DataFrame({ 'Time' : time , 'Total number of comments': list_total , 'Number of positive comments': list_pos, 'Number of negtitive comments': list_neg , \"Number of neutral comments\": list_neu })\n",
    "df['Precent_pos'] = df['Number of positive comments'] / df['Total number of comments']\n",
    "df['Precent_neg'] = df['Number of negtitive comments'] / df['Total number of comments']\n",
    "df"
   ]
  },
  {
   "cell_type": "code",
   "execution_count": 9,
   "metadata": {},
   "outputs": [
    {
     "data": {
      "text/plain": [
       "<matplotlib.axes._subplots.AxesSubplot at 0x112744630>"
      ]
     },
     "execution_count": 9,
     "metadata": {},
     "output_type": "execute_result"
    },
    {
     "data": {
      "image/png": "[encoded data removed]",
      "text/plain": [
       "<Figure size 432x288 with 1 Axes>"
      ]
     },
     "metadata": {},
     "output_type": "display_data"
    }
   ],
   "source": [
    "np_df = pd.DataFrame({ 'Time' : time , 'Number of positive comments': list_pos})\n",
    "np_df.plot.pie(labels = time ,  y = 'Number of positive comments')"
   ]
  },
  {
   "cell_type": "code",
   "execution_count": 5,
   "metadata": {},
   "outputs": [
    {
     "data": {
      "text/plain": [
       "<matplotlib.axes._subplots.AxesSubplot at 0x11249ec18>"
      ]
     },
     "execution_count": 5,
     "metadata": {},
     "output_type": "execute_result"
    },
    {
     "data": {
      "image/png": "[encoded data removed]",
      "text/plain": [
       "<Figure size 432x288 with 1 Axes>"
      ]
     },
     "metadata": {},
     "output_type": "display_data"
    }
   ],
   "source": [
    "neg_df = pd.DataFrame({ 'Time' : time , 'Number of negtitive comments': list_neg})\n",
    "neg_df.plot.pie(labels = time ,  y = 'Number of negtitive comments')"
   ]
  },
  {
   "cell_type": "code",
   "execution_count": 6,
   "metadata": {},
   "outputs": [
    {
     "data": {
      "text/plain": [
       "<matplotlib.axes._subplots.AxesSubplot at 0x1126424e0>"
      ]
     },
     "execution_count": 6,
     "metadata": {},
     "output_type": "execute_result"
    },
    {
     "data": {
      "image/png": "[encoded data removed]",
      "text/plain": [
       "<Figure size 432x288 with 1 Axes>"
      ]
     },
     "metadata": {},
     "output_type": "display_data"
    }
   ],
   "source": [
    "pos_df = pd.DataFrame({ 'Time' : time , 'Number of positive comments': list_pos})\n",
    "pos_df.plot.pie(labels = time ,  y = 'Number of positive comments')"
   ]
  },
  {
   "cell_type": "code",
   "execution_count": 7,
   "metadata": {},
   "outputs": [
    {
     "data": {
      "text/plain": [
       "<matplotlib.axes._subplots.AxesSubplot at 0x11268f2e8>"
      ]
     },
     "execution_count": 7,
     "metadata": {},
     "output_type": "execute_result"
    },
    {
     "data": {
      "image/png": "[encoded data removed]",
      "text/plain": [
       "<Figure size 432x288 with 1 Axes>"
      ]
     },
     "metadata": {
      "needs_background": "light"
     },
     "output_type": "display_data"
    }
   ],
   "source": [
    "neg_df = pd.DataFrame({ 'Time' : time , 'Number of negtitive comments': list_neg})\n",
    "neg_df.plot.bar(x = 'Time', y = 'Number of negtitive comments')"
   ]
  },
  {
   "cell_type": "code",
   "execution_count": 8,
   "metadata": {},
   "outputs": [
    {
     "data": {
      "text/plain": [
       "<matplotlib.axes._subplots.AxesSubplot at 0x1126fe128>"
      ]
     },
     "execution_count": 8,
     "metadata": {},
     "output_type": "execute_result"
    },
    {
     "data": {
      "image/png": "[encoded data removed]",
      "text/plain": [
       "<Figure size 432x288 with 1 Axes>"
      ]
     },
     "metadata": {
      "needs_background": "light"
     },
     "output_type": "display_data"
    }
   ],
   "source": [
    "pos_df = pd.DataFrame({ 'Time' : time , 'Number of positive comments': list_pos})\n",
    "pos_df.plot.bar(x = 'Time', y = 'Number of positive comments')"
   ]
  }
 ],
 "metadata": {
  "kernelspec": {
   "display_name": "Python 3",
   "language": "python",
   "name": "python3"
  },
  "language_info": {
   "codemirror_mode": {
    "name": "ipython",
    "version": 3
   },
   "file_extension": ".py",
   "mimetype": "text/x-python",
   "name": "python",
   "nbconvert_exporter": "python",
   "pygments_lexer": "ipython3",
   "version": "3.6.6"
  }
 },
 "nbformat": 4,
 "nbformat_minor": 2
}
